{
 "cells": [
  {
   "cell_type": "code",
   "execution_count": null,
   "metadata": {},
   "outputs": [],
   "source": [
    "from ipyfilechooser import FileChooser\n",
    "\n",
    "# Create and display a FileChooser widget\n",
    "fc = FileChooser('/Users/naci')\n",
    "display(fc)"
   ]
  },
  {
   "cell_type": "code",
   "execution_count": null,
   "metadata": {},
   "outputs": [],
   "source": [
    "import os\n",
    "\n",
    "# Walk through all the subfolders\n",
    "for root, dirs, fileNames in os.walk(fc.selected_path):\n",
    "    for fileName in fileNames:\n",
    "        # Extract the basename for making a file with an identical basename and a bak extension\n",
    "        # Extract the extension to make sure we only target the files we need\n",
    "        baseName, fileExtension = os.path.splitext(fileName)\n",
    "        fullPathName = os.path.join(root, fileName)\n",
    "        #print(fileExtension)\n",
    "        #print(fullPathName)\n",
    "        \n",
    "        # Check if it is the extension we are looking for \n",
    "        if (fileExtension == \".java\"):\n",
    "            print(fullPathName)\n",
    "            fIn = open(fullPathName, \"r\")\n",
    "            fOut = open(os.path.join(root, baseName + \".bak\"), \"wt\")\n",
    "            \n",
    "            # for Log statements spanning multiple lines use a Boolean variable\n",
    "            multiLineLog = False\n",
    "            for line in fIn:\n",
    "                # print(line)\n",
    "                # fout.write(line.replace('foo', 'bar'))\n",
    "                \n",
    "                if(multiLineLog == True):\n",
    "                    print(\"also replacing this line: \" + line)\n",
    "                    print(\"last char \" + line.strip()[-1])    \n",
    "                    fOut.write(\"// \" + line)\n",
    "                    # The last Log line that doesn't start with Log\n",
    "                    # And it ends with the ; char to end the statement\n",
    "                    if \";\" in line.strip()[-3:]:\n",
    "                        print(\"Found the last line in a multi line Log\")\n",
    "                        multiLineLog = False               \n",
    "                    \n",
    "                elif (line.strip()[:3] == \"Log\"):\n",
    "                    print(\"replacing this line: \" + line)\n",
    "                    print(\"last char \" + line.strip()[-1])                    \n",
    "                    fOut.write(line.replace('Log', '// Log'))\n",
    "                    if \";\" not in line.strip()[-3:]:\n",
    "                        multiLineLog = True\n",
    "                else:\n",
    "                    fOut.write(line)\n",
    "            fIn.close()\n",
    "            # Finished with the original file, now we can erase it\n",
    "            print(fIn.name)\n",
    "            os.remove(fIn.name)\n",
    "            fOut.close()\n",
    "            os.rename(fOut.name, fIn.name)\n",
    "            \n",
    "            "
   ]
  }
 ],
 "metadata": {
  "kernelspec": {
   "display_name": "Python 3",
   "language": "python",
   "name": "python3"
  },
  "language_info": {
   "codemirror_mode": {
    "name": "ipython",
    "version": 3
   },
   "file_extension": ".py",
   "mimetype": "text/x-python",
   "name": "python",
   "nbconvert_exporter": "python",
   "pygments_lexer": "ipython3",
   "version": "3.7.3"
  }
 },
 "nbformat": 4,
 "nbformat_minor": 2
}
